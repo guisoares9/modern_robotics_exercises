{
 "cells": [
  {
   "cell_type": "code",
   "execution_count": 3,
   "metadata": {},
   "outputs": [
    {
     "name": "stderr",
     "output_type": "stream",
     "text": [
      "/home/guisoares/.local/lib/python3.8/site-packages/scipy/__init__.py:146: UserWarning: A NumPy version >=1.16.5 and <1.23.0 is required for this version of SciPy (detected version 1.23.5\n",
      "  warnings.warn(f\"A NumPy version >={np_minversion} and <{np_maxversion}\"\n"
     ]
    }
   ],
   "source": [
    "from spatialmath import SE3, SO3\n",
    "import math\n",
    "import numpy as np"
   ]
  },
  {
   "cell_type": "markdown",
   "metadata": {},
   "source": [
    "## Exercise 3.2"
   ]
  },
  {
   "cell_type": "code",
   "execution_count": 4,
   "metadata": {},
   "outputs": [
    {
     "name": "stdout",
     "output_type": "stream",
     "text": [
      "\n",
      "\n",
      "Exercise 3.2\n",
      "\n",
      "Rotation about x-axis by 35 degrees:\n",
      "   1         0         0         \n",
      "   0         0.8192   -0.5736    \n",
      "   0         0.5736    0.8192    \n",
      "\n",
      "Rotation about y-axis by 135 degrees:\n",
      "  -0.7071    0         0.7071    \n",
      "   0         1         0         \n",
      "  -0.7071    0        -0.7071    \n",
      "\n",
      "Rotation about z-axis by -120 degrees:\n",
      "  -0.5       0.866     0         \n",
      "  -0.866    -0.5       0         \n",
      "   0         0         1         \n",
      "\n",
      "Position before rotation:\n",
      "[0.5773502691896258, -0.4082482904638631, 0.7071067811865475]\n",
      "Position after rotation:\n",
      "[-0.5587316204140793, 0.5122428644147231, -0.6522470576443076]\n"
     ]
    }
   ],
   "source": [
    "print('\\n\\nExercise 3.2\\n')\n",
    "\n",
    "rx = SO3.Rx(35, 'deg')\n",
    "ry = SO3.Ry(135, 'deg')\n",
    "rz = SO3.Rz(-120, 'deg')\n",
    "\n",
    "print('Rotation about x-axis by 35 degrees:')\n",
    "print(rx)\n",
    "print('Rotation about y-axis by 135 degrees:')\n",
    "print(ry)\n",
    "print('Rotation about z-axis by -120 degrees:')\n",
    "print(rz)\n",
    "\n",
    "p_before = [1/math.sqrt(3), -1/math.sqrt(6), 1/math.sqrt(2)]\n",
    "p_after = rz * ry * rx * p_before\n",
    "\n",
    "print('Position before rotation:')\n",
    "print(p_before)\n",
    "print('Position after rotation:')\n",
    "print(p_after.ravel().tolist())"
   ]
  },
  {
   "cell_type": "markdown",
   "metadata": {},
   "source": [
    "## Exercise 3.3"
   ]
  },
  {
   "cell_type": "code",
   "execution_count": 5,
   "metadata": {},
   "outputs": [
    {
     "name": "stdout",
     "output_type": "stream",
     "text": [
      "\n",
      "\n",
      "Exercise 3.3\n",
      "\n",
      "Before: p1_b = [1.41 0.   2.  ], With p1_a = R*p1_b = [0.   2.   1.41]\n",
      "Before: p2_b = [ 1  1 -1], With p2_a = R*p2_b = [ 0.71  0.71 -1.41]\n",
      "Before: p3_b = [0.   2.83 0.  ], With p3_a = R*p3_b = [-1.41  1.41 -2.  ]\n"
     ]
    }
   ],
   "source": [
    "print('\\n\\nExercise 3.3\\n')\n",
    "# This exercise was solved algebraically we will inspect the results obtained with hands applying the rotation matrix on the three vectors.\n",
    "\n",
    "# mounting the rotation matrix\n",
    "line1 = [ math.sqrt(2)/2, -1/2, -1/2]\n",
    "line2 = [math.sqrt(2)/2, 1/2, 1/2]\n",
    "line3 = [0, -math.sqrt(2)/2, math.sqrt(2)/2]\n",
    "R = [line1, line2, line3]\n",
    "R = np.array(R)\n",
    "\n",
    "# applying the rotation matrix on the three vectors\n",
    "p1_b = np.array([math.sqrt(2), 0, 2]).T\n",
    "p1_a = np.dot(R, p1_b)\n",
    "\n",
    "p2_b = np.array([1, 1, -1]).T\n",
    "p2_a = np.dot(R, p2_b)\n",
    "\n",
    "p3_b = np.array([0, 2*math.sqrt(2), 0]).T\n",
    "p3_a = np.dot(R, p3_b)\n",
    "\n",
    "p1_b = p1_b.round(2)\n",
    "p1_a = p1_a.round(2)\n",
    "p2_b = p2_b.round(2)\n",
    "p2_a = p2_a.round(2)\n",
    "p3_b = p3_b.round(2)\n",
    "p3_a = p3_a.round(2)\n",
    "\n",
    "# printing the results\n",
    "print(f\"Before: p1_b = {p1_b}, With p1_a = R*p1_b = {p1_a}\")\n",
    "print(f\"Before: p2_b = {p2_b}, With p2_a = R*p2_b = {p2_a}\")\n",
    "print(f\"Before: p3_b = {p3_b}, With p3_a = R*p3_b = {p3_a}\")"
   ]
  },
  {
   "cell_type": "markdown",
   "metadata": {},
   "source": [
    "## Exercise 3.16\n",
    "### Nothing to do here as the exercise was solved algebraically and the results can be tested by analysing the drawings on itam a)."
   ]
  },
  {
   "cell_type": "markdown",
   "metadata": {},
   "source": [
    "## Exercise 3.17"
   ]
  },
  {
   "cell_type": "code",
   "execution_count": 6,
   "metadata": {},
   "outputs": [
    {
     "name": "stdout",
     "output_type": "stream",
     "text": [
      "\n",
      "\n",
      "Exercise 3.17\n",
      "\n",
      "Tab = [[ 0  1  0 -1]\n",
      " [ 1  0  0 -3]\n",
      " [ 0  0 -1  2]\n",
      " [ 0  0  0  1]]\n"
     ]
    }
   ],
   "source": [
    "print('\\n\\nExercise 3.17\\n')\n",
    "\n",
    "Tad = np.array([[1, 0, 0, 0], [0, 1, 0, 0], [0, 0, 1, 0], [-1, 1, 0, 1]]).T\n",
    "Tdc = np.array([[0, 1, 0, 0], [1, 0, 0, 0], [0, 0, -1, 0], [0, 0, 2, 1]]).T\n",
    "Tcb = np.array([[1, 0, 0, 0], [0, 1, 0, 0], [0, 0, 1, 0], [-4, 0, 0, 1]]).T\n",
    "\n",
    "Tab = np.dot(Tad, np.dot(Tdc, Tcb))\n",
    "\n",
    "print(f\"Tab = {Tab}\")"
   ]
  },
  {
   "cell_type": "markdown",
   "metadata": {},
   "source": [
    "## Exercise 3.18"
   ]
  },
  {
   "cell_type": "markdown",
   "metadata": {},
   "source": [
    "## Exercise 3.21"
   ]
  },
  {
   "cell_type": "code",
   "execution_count": 21,
   "metadata": {},
   "outputs": [
    {
     "name": "stdout",
     "output_type": "stream",
     "text": [
      "t_ac:\n",
      "   1         0         0         0         \n",
      "   0         0.5       0.866     800       \n",
      "   0        -0.866     0.5       0         \n",
      "   0         0         0         1         \n",
      "\n",
      "t_ba:\n",
      "[[   0.    1.    0. -300.]\n",
      " [  -1.   -0.   -0. -100.]\n",
      " [   0.    0.    1. -500.]\n",
      " [   0.    0.    0.    1.]]\n",
      "\n",
      "t_bc = t_ba * t_ac:\n",
      "[[   0.           0.5          0.8660254  500.       ]\n",
      " [  -1.           0.           0.        -100.       ]\n",
      " [   0.          -0.8660254    0.5       -500.       ]\n",
      " [   0.           0.           0.           1.       ]]\n"
     ]
    }
   ],
   "source": [
    "# import sympy as sym\n",
    "# theta = sym.symbols('theta')\n",
    "\n",
    "rz = SE3.Rx(-60, 'deg')\n",
    "ty = SE3(0, 800, 0)\n",
    "\n",
    "t_ac = ty * rz\n",
    "print(\"t_ac:\")\n",
    "print(t_ac)\n",
    "\n",
    "t_ab = np.array([[0, -1, 0, -100], [1, 0, 0, 300], [0, 0, 1, 500], [0, 0, 0, 1]])\n",
    "t_ba = np.linalg.inv(t_ab)\n",
    "print(\"t_ba:\")\n",
    "print(t_ba)\n",
    "\n",
    "t_bc = np.dot(t_ba, t_ac)\n",
    "print(\"\\nt_bc = t_ba * t_ac:\")\n",
    "print(t_bc)"
   ]
  },
  {
   "cell_type": "code",
   "execution_count": null,
   "metadata": {},
   "outputs": [],
   "source": []
  }
 ],
 "metadata": {
  "kernelspec": {
   "display_name": "Python 3.8.10 64-bit",
   "language": "python",
   "name": "python3"
  },
  "language_info": {
   "codemirror_mode": {
    "name": "ipython",
    "version": 3
   },
   "file_extension": ".py",
   "mimetype": "text/x-python",
   "name": "python",
   "nbconvert_exporter": "python",
   "pygments_lexer": "ipython3",
   "version": "3.8.10"
  },
  "orig_nbformat": 4,
  "vscode": {
   "interpreter": {
    "hash": "31f2aee4e71d21fbe5cf8b01ff0e069b9275f58929596ceb00d14d90e3e16cd6"
   }
  }
 },
 "nbformat": 4,
 "nbformat_minor": 2
}
